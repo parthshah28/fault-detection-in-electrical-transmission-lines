{
 "cells": [
  {
   "cell_type": "code",
   "execution_count": 1,
   "id": "68c65794",
   "metadata": {},
   "outputs": [],
   "source": [
    "import pandas as pd\n",
    "import numpy as np\n",
    "from sklearn.metrics import classification_report\n",
    "import matplotlib.pyplot as plt\n",
    "%matplotlib inline\n",
    "import seaborn as sns\n",
    "from sklearn import metrics\n",
    "from sklearn.preprocessing import StandardScaler\n",
    "from sklearn.metrics import confusion_matrix, accuracy_score, precision_score, f1_score, recall_score\n",
    "import warnings\n",
    "from sklearn.ensemble import RandomForestClassifier\n",
    "from sklearn.linear_model import LogisticRegression\n",
    "from sklearn.tree import DecisionTreeClassifier\n",
    "from imblearn.over_sampling import SMOTE\n",
    "from sklearn.neighbors import KNeighborsClassifier\n",
    "import time\n",
    "warnings.filterwarnings('ignore')"
   ]
  },
  {
   "cell_type": "code",
   "execution_count": 2,
   "id": "ff40f05f",
   "metadata": {},
   "outputs": [
    {
     "name": "stdout",
     "output_type": "stream",
     "text": [
      "Sample of the Dataframe\n"
     ]
    },
    {
     "data": {
      "text/html": [
       "<div>\n",
       "<style scoped>\n",
       "    .dataframe tbody tr th:only-of-type {\n",
       "        vertical-align: middle;\n",
       "    }\n",
       "\n",
       "    .dataframe tbody tr th {\n",
       "        vertical-align: top;\n",
       "    }\n",
       "\n",
       "    .dataframe thead th {\n",
       "        text-align: right;\n",
       "    }\n",
       "</style>\n",
       "<table border=\"1\" class=\"dataframe\">\n",
       "  <thead>\n",
       "    <tr style=\"text-align: right;\">\n",
       "      <th></th>\n",
       "      <th>Output (S)</th>\n",
       "      <th>Ia</th>\n",
       "      <th>Ib</th>\n",
       "      <th>Ic</th>\n",
       "      <th>Va</th>\n",
       "      <th>Vb</th>\n",
       "      <th>Vc</th>\n",
       "      <th>Unnamed: 7</th>\n",
       "      <th>Unnamed: 8</th>\n",
       "    </tr>\n",
       "  </thead>\n",
       "  <tbody>\n",
       "    <tr>\n",
       "      <th>0</th>\n",
       "      <td>0</td>\n",
       "      <td>-170.472196</td>\n",
       "      <td>9.219613</td>\n",
       "      <td>161.252583</td>\n",
       "      <td>0.054490</td>\n",
       "      <td>-0.659921</td>\n",
       "      <td>0.605431</td>\n",
       "      <td>NaN</td>\n",
       "      <td>NaN</td>\n",
       "    </tr>\n",
       "    <tr>\n",
       "      <th>1</th>\n",
       "      <td>0</td>\n",
       "      <td>-122.235754</td>\n",
       "      <td>6.168667</td>\n",
       "      <td>116.067087</td>\n",
       "      <td>0.102000</td>\n",
       "      <td>-0.628612</td>\n",
       "      <td>0.526202</td>\n",
       "      <td>NaN</td>\n",
       "      <td>NaN</td>\n",
       "    </tr>\n",
       "    <tr>\n",
       "      <th>2</th>\n",
       "      <td>0</td>\n",
       "      <td>-90.161474</td>\n",
       "      <td>3.813632</td>\n",
       "      <td>86.347841</td>\n",
       "      <td>0.141026</td>\n",
       "      <td>-0.605277</td>\n",
       "      <td>0.464251</td>\n",
       "      <td>NaN</td>\n",
       "      <td>NaN</td>\n",
       "    </tr>\n",
       "    <tr>\n",
       "      <th>3</th>\n",
       "      <td>0</td>\n",
       "      <td>-79.904916</td>\n",
       "      <td>2.398803</td>\n",
       "      <td>77.506112</td>\n",
       "      <td>0.156272</td>\n",
       "      <td>-0.602235</td>\n",
       "      <td>0.445963</td>\n",
       "      <td>NaN</td>\n",
       "      <td>NaN</td>\n",
       "    </tr>\n",
       "    <tr>\n",
       "      <th>4</th>\n",
       "      <td>0</td>\n",
       "      <td>-63.885255</td>\n",
       "      <td>0.590667</td>\n",
       "      <td>63.294587</td>\n",
       "      <td>0.180451</td>\n",
       "      <td>-0.591501</td>\n",
       "      <td>0.411050</td>\n",
       "      <td>NaN</td>\n",
       "      <td>NaN</td>\n",
       "    </tr>\n",
       "  </tbody>\n",
       "</table>\n",
       "</div>"
      ],
      "text/plain": [
       "   Output (S)          Ia        Ib          Ic        Va        Vb        Vc  \\\n",
       "0           0 -170.472196  9.219613  161.252583  0.054490 -0.659921  0.605431   \n",
       "1           0 -122.235754  6.168667  116.067087  0.102000 -0.628612  0.526202   \n",
       "2           0  -90.161474  3.813632   86.347841  0.141026 -0.605277  0.464251   \n",
       "3           0  -79.904916  2.398803   77.506112  0.156272 -0.602235  0.445963   \n",
       "4           0  -63.885255  0.590667   63.294587  0.180451 -0.591501  0.411050   \n",
       "\n",
       "   Unnamed: 7  Unnamed: 8  \n",
       "0         NaN         NaN  \n",
       "1         NaN         NaN  \n",
       "2         NaN         NaN  \n",
       "3         NaN         NaN  \n",
       "4         NaN         NaN  "
      ]
     },
     "execution_count": 2,
     "metadata": {},
     "output_type": "execute_result"
    }
   ],
   "source": [
    "df = pd.read_csv('detect_dataset.csv')\n",
    "print('Sample of the Dataframe')\n",
    "df.head()"
   ]
  },
  {
   "cell_type": "code",
   "execution_count": 3,
   "id": "dddc3069",
   "metadata": {},
   "outputs": [
    {
     "name": "stdout",
     "output_type": "stream",
     "text": [
      "<class 'pandas.core.frame.DataFrame'>\n",
      "RangeIndex: 12001 entries, 0 to 12000\n",
      "Data columns (total 9 columns):\n",
      " #   Column      Non-Null Count  Dtype  \n",
      "---  ------      --------------  -----  \n",
      " 0   Output (S)  12001 non-null  int64  \n",
      " 1   Ia          12001 non-null  float64\n",
      " 2   Ib          12001 non-null  float64\n",
      " 3   Ic          12001 non-null  float64\n",
      " 4   Va          12001 non-null  float64\n",
      " 5   Vb          12001 non-null  float64\n",
      " 6   Vc          12001 non-null  float64\n",
      " 7   Unnamed: 7  0 non-null      float64\n",
      " 8   Unnamed: 8  0 non-null      float64\n",
      "dtypes: float64(8), int64(1)\n",
      "memory usage: 843.9 KB\n"
     ]
    }
   ],
   "source": [
    "df.info()"
   ]
  },
  {
   "cell_type": "code",
   "execution_count": 3,
   "id": "a4c6375c",
   "metadata": {},
   "outputs": [
    {
     "name": "stdout",
     "output_type": "stream",
     "text": [
      "Listing properties of each Dataframe column\n"
     ]
    },
    {
     "data": {
      "text/html": [
       "<div>\n",
       "<style scoped>\n",
       "    .dataframe tbody tr th:only-of-type {\n",
       "        vertical-align: middle;\n",
       "    }\n",
       "\n",
       "    .dataframe tbody tr th {\n",
       "        vertical-align: top;\n",
       "    }\n",
       "\n",
       "    .dataframe thead th {\n",
       "        text-align: right;\n",
       "    }\n",
       "</style>\n",
       "<table border=\"1\" class=\"dataframe\">\n",
       "  <thead>\n",
       "    <tr style=\"text-align: right;\">\n",
       "      <th></th>\n",
       "      <th>Output (S)</th>\n",
       "      <th>Ia</th>\n",
       "      <th>Ib</th>\n",
       "      <th>Ic</th>\n",
       "      <th>Va</th>\n",
       "      <th>Vb</th>\n",
       "      <th>Vc</th>\n",
       "      <th>Unnamed: 7</th>\n",
       "      <th>Unnamed: 8</th>\n",
       "    </tr>\n",
       "  </thead>\n",
       "  <tbody>\n",
       "    <tr>\n",
       "      <th>count</th>\n",
       "      <td>12001.000000</td>\n",
       "      <td>12001.000000</td>\n",
       "      <td>12001.000000</td>\n",
       "      <td>12001.000000</td>\n",
       "      <td>12001.000000</td>\n",
       "      <td>12001.000000</td>\n",
       "      <td>12001.000000</td>\n",
       "      <td>0.0</td>\n",
       "      <td>0.0</td>\n",
       "    </tr>\n",
       "    <tr>\n",
       "      <th>mean</th>\n",
       "      <td>0.457962</td>\n",
       "      <td>6.709369</td>\n",
       "      <td>-26.557793</td>\n",
       "      <td>22.353043</td>\n",
       "      <td>0.010517</td>\n",
       "      <td>-0.015498</td>\n",
       "      <td>0.004980</td>\n",
       "      <td>NaN</td>\n",
       "      <td>NaN</td>\n",
       "    </tr>\n",
       "    <tr>\n",
       "      <th>std</th>\n",
       "      <td>0.498250</td>\n",
       "      <td>377.158470</td>\n",
       "      <td>357.458613</td>\n",
       "      <td>302.052809</td>\n",
       "      <td>0.346221</td>\n",
       "      <td>0.357644</td>\n",
       "      <td>0.349272</td>\n",
       "      <td>NaN</td>\n",
       "      <td>NaN</td>\n",
       "    </tr>\n",
       "    <tr>\n",
       "      <th>min</th>\n",
       "      <td>0.000000</td>\n",
       "      <td>-883.542316</td>\n",
       "      <td>-900.526951</td>\n",
       "      <td>-883.357762</td>\n",
       "      <td>-0.620748</td>\n",
       "      <td>-0.659921</td>\n",
       "      <td>-0.612709</td>\n",
       "      <td>NaN</td>\n",
       "      <td>NaN</td>\n",
       "    </tr>\n",
       "    <tr>\n",
       "      <th>25%</th>\n",
       "      <td>0.000000</td>\n",
       "      <td>-64.348986</td>\n",
       "      <td>-51.421937</td>\n",
       "      <td>-54.562257</td>\n",
       "      <td>-0.237610</td>\n",
       "      <td>-0.313721</td>\n",
       "      <td>-0.278951</td>\n",
       "      <td>NaN</td>\n",
       "      <td>NaN</td>\n",
       "    </tr>\n",
       "    <tr>\n",
       "      <th>50%</th>\n",
       "      <td>0.000000</td>\n",
       "      <td>-3.239788</td>\n",
       "      <td>4.711283</td>\n",
       "      <td>-0.399419</td>\n",
       "      <td>0.002465</td>\n",
       "      <td>-0.007192</td>\n",
       "      <td>0.008381</td>\n",
       "      <td>NaN</td>\n",
       "      <td>NaN</td>\n",
       "    </tr>\n",
       "    <tr>\n",
       "      <th>75%</th>\n",
       "      <td>1.000000</td>\n",
       "      <td>53.823453</td>\n",
       "      <td>69.637787</td>\n",
       "      <td>45.274542</td>\n",
       "      <td>0.285078</td>\n",
       "      <td>0.248681</td>\n",
       "      <td>0.289681</td>\n",
       "      <td>NaN</td>\n",
       "      <td>NaN</td>\n",
       "    </tr>\n",
       "    <tr>\n",
       "      <th>max</th>\n",
       "      <td>1.000000</td>\n",
       "      <td>885.738571</td>\n",
       "      <td>889.868884</td>\n",
       "      <td>901.274261</td>\n",
       "      <td>0.609864</td>\n",
       "      <td>0.627875</td>\n",
       "      <td>0.608243</td>\n",
       "      <td>NaN</td>\n",
       "      <td>NaN</td>\n",
       "    </tr>\n",
       "  </tbody>\n",
       "</table>\n",
       "</div>"
      ],
      "text/plain": [
       "         Output (S)            Ia            Ib            Ic            Va  \\\n",
       "count  12001.000000  12001.000000  12001.000000  12001.000000  12001.000000   \n",
       "mean       0.457962      6.709369    -26.557793     22.353043      0.010517   \n",
       "std        0.498250    377.158470    357.458613    302.052809      0.346221   \n",
       "min        0.000000   -883.542316   -900.526951   -883.357762     -0.620748   \n",
       "25%        0.000000    -64.348986    -51.421937    -54.562257     -0.237610   \n",
       "50%        0.000000     -3.239788      4.711283     -0.399419      0.002465   \n",
       "75%        1.000000     53.823453     69.637787     45.274542      0.285078   \n",
       "max        1.000000    885.738571    889.868884    901.274261      0.609864   \n",
       "\n",
       "                 Vb            Vc  Unnamed: 7  Unnamed: 8  \n",
       "count  12001.000000  12001.000000         0.0         0.0  \n",
       "mean      -0.015498      0.004980         NaN         NaN  \n",
       "std        0.357644      0.349272         NaN         NaN  \n",
       "min       -0.659921     -0.612709         NaN         NaN  \n",
       "25%       -0.313721     -0.278951         NaN         NaN  \n",
       "50%       -0.007192      0.008381         NaN         NaN  \n",
       "75%        0.248681      0.289681         NaN         NaN  \n",
       "max        0.627875      0.608243         NaN         NaN  "
      ]
     },
     "execution_count": 3,
     "metadata": {},
     "output_type": "execute_result"
    }
   ],
   "source": [
    "# Listing the properties of each Dataframe column.\n",
    "print('Listing properties of each Dataframe column')\n",
    "df.describe()"
   ]
  },
  {
   "cell_type": "code",
   "execution_count": 4,
   "id": "50fd8d10",
   "metadata": {},
   "outputs": [
    {
     "name": "stdout",
     "output_type": "stream",
     "text": [
      "Number of rows and columns in the dataset\n"
     ]
    },
    {
     "data": {
      "text/plain": [
       "(12001, 9)"
      ]
     },
     "execution_count": 4,
     "metadata": {},
     "output_type": "execute_result"
    }
   ],
   "source": [
    "print('Number of rows and columns in the dataset')\n",
    "df.shape"
   ]
  },
  {
   "cell_type": "code",
   "execution_count": 6,
   "id": "ae7f87b3",
   "metadata": {},
   "outputs": [
    {
     "name": "stdout",
     "output_type": "stream",
     "text": [
      "Vaibhav Jain and Simran Ahuja - Extracting the count of output column values from the dataset.\n"
     ]
    },
    {
     "data": {
      "text/plain": [
       "0    6505\n",
       "1    5496\n",
       "Name: Output (S), dtype: int64"
      ]
     },
     "execution_count": 6,
     "metadata": {},
     "output_type": "execute_result"
    }
   ],
   "source": [
    "# Extracting the count of Output column values from the dataset.\n",
    "print('Extracting the count of output column values from the dataset.')\n",
    "output = df['Output (S)'].value_counts()\n",
    "output"
   ]
  },
  {
   "cell_type": "code",
   "execution_count": 7,
   "id": "5ba847cc",
   "metadata": {},
   "outputs": [
    {
     "name": "stdout",
     "output_type": "stream",
     "text": [
      "Vaibhav Jain and Simran Ahuja - Total values in the Output (S) dataframe\n"
     ]
    },
    {
     "data": {
      "text/plain": [
       "12001"
      ]
     },
     "execution_count": 7,
     "metadata": {},
     "output_type": "execute_result"
    }
   ],
   "source": [
    "print('Total values in the Output (S) dataframe')\n",
    "total = output[0]+output[1]\n",
    "total"
   ]
  },
  {
   "cell_type": "code",
   "execution_count": 9,
   "id": "862aefaf",
   "metadata": {},
   "outputs": [
    {
     "name": "stdout",
     "output_type": "stream",
     "text": [
      "Vaibhav Jain and Simran Ahuja - Percentage of No Fault in the Output Column.\n"
     ]
    },
    {
     "data": {
      "text/plain": [
       "54.2"
      ]
     },
     "execution_count": 9,
     "metadata": {},
     "output_type": "execute_result"
    }
   ],
   "source": [
    "# Percentage of Percentage of No Fault in the Output Column.\n",
    "print('Percentage of No Fault in the Output Column.')\n",
    "zero_per = (output[0]/total*100)\n",
    "round(zero_per,2)"
   ]
  },
  {
   "cell_type": "code",
   "execution_count": 10,
   "id": "b70ca42e",
   "metadata": {},
   "outputs": [
    {
     "name": "stdout",
     "output_type": "stream",
     "text": [
      "Vaibhav Jain and Simran Ahuja - Percentage of Faults in the Output Column.\n"
     ]
    },
    {
     "data": {
      "text/plain": [
       "45.8"
      ]
     },
     "execution_count": 10,
     "metadata": {},
     "output_type": "execute_result"
    }
   ],
   "source": [
    "# Percentage of Faults in the Output Column.\n",
    "print('Percentage of Faults in the Output Column.')\n",
    "one_per = (output[1]/total*100)\n",
    "round(one_per,2)"
   ]
  },
  {
   "cell_type": "markdown",
   "id": "4b54487e",
   "metadata": {},
   "source": [
    "## Dataset looks balanced and no form of sampling is required. "
   ]
  },
  {
   "cell_type": "markdown",
   "id": "9eeb218f",
   "metadata": {},
   "source": [
    "## Dropping Null Columns"
   ]
  },
  {
   "cell_type": "code",
   "execution_count": 14,
   "id": "db3402f4",
   "metadata": {},
   "outputs": [],
   "source": [
    "df = df.drop(columns=[\"Unnamed: 7\", \"Unnamed: 8\"])"
   ]
  },
  {
   "cell_type": "code",
   "execution_count": 15,
   "id": "ffa45c30",
   "metadata": {},
   "outputs": [
    {
     "data": {
      "text/html": [
       "<div>\n",
       "<style scoped>\n",
       "    .dataframe tbody tr th:only-of-type {\n",
       "        vertical-align: middle;\n",
       "    }\n",
       "\n",
       "    .dataframe tbody tr th {\n",
       "        vertical-align: top;\n",
       "    }\n",
       "\n",
       "    .dataframe thead th {\n",
       "        text-align: right;\n",
       "    }\n",
       "</style>\n",
       "<table border=\"1\" class=\"dataframe\">\n",
       "  <thead>\n",
       "    <tr style=\"text-align: right;\">\n",
       "      <th></th>\n",
       "      <th>Output (S)</th>\n",
       "      <th>Ia</th>\n",
       "      <th>Ib</th>\n",
       "      <th>Ic</th>\n",
       "      <th>Va</th>\n",
       "      <th>Vb</th>\n",
       "      <th>Vc</th>\n",
       "    </tr>\n",
       "  </thead>\n",
       "  <tbody>\n",
       "    <tr>\n",
       "      <th>0</th>\n",
       "      <td>0</td>\n",
       "      <td>-170.472196</td>\n",
       "      <td>9.219613</td>\n",
       "      <td>161.252583</td>\n",
       "      <td>0.054490</td>\n",
       "      <td>-0.659921</td>\n",
       "      <td>0.605431</td>\n",
       "    </tr>\n",
       "    <tr>\n",
       "      <th>1</th>\n",
       "      <td>0</td>\n",
       "      <td>-122.235754</td>\n",
       "      <td>6.168667</td>\n",
       "      <td>116.067087</td>\n",
       "      <td>0.102000</td>\n",
       "      <td>-0.628612</td>\n",
       "      <td>0.526202</td>\n",
       "    </tr>\n",
       "    <tr>\n",
       "      <th>2</th>\n",
       "      <td>0</td>\n",
       "      <td>-90.161474</td>\n",
       "      <td>3.813632</td>\n",
       "      <td>86.347841</td>\n",
       "      <td>0.141026</td>\n",
       "      <td>-0.605277</td>\n",
       "      <td>0.464251</td>\n",
       "    </tr>\n",
       "    <tr>\n",
       "      <th>3</th>\n",
       "      <td>0</td>\n",
       "      <td>-79.904916</td>\n",
       "      <td>2.398803</td>\n",
       "      <td>77.506112</td>\n",
       "      <td>0.156272</td>\n",
       "      <td>-0.602235</td>\n",
       "      <td>0.445963</td>\n",
       "    </tr>\n",
       "    <tr>\n",
       "      <th>4</th>\n",
       "      <td>0</td>\n",
       "      <td>-63.885255</td>\n",
       "      <td>0.590667</td>\n",
       "      <td>63.294587</td>\n",
       "      <td>0.180451</td>\n",
       "      <td>-0.591501</td>\n",
       "      <td>0.411050</td>\n",
       "    </tr>\n",
       "    <tr>\n",
       "      <th>...</th>\n",
       "      <td>...</td>\n",
       "      <td>...</td>\n",
       "      <td>...</td>\n",
       "      <td>...</td>\n",
       "      <td>...</td>\n",
       "      <td>...</td>\n",
       "      <td>...</td>\n",
       "    </tr>\n",
       "    <tr>\n",
       "      <th>11996</th>\n",
       "      <td>0</td>\n",
       "      <td>-66.237921</td>\n",
       "      <td>38.457041</td>\n",
       "      <td>24.912239</td>\n",
       "      <td>0.094421</td>\n",
       "      <td>-0.552019</td>\n",
       "      <td>0.457598</td>\n",
       "    </tr>\n",
       "    <tr>\n",
       "      <th>11997</th>\n",
       "      <td>0</td>\n",
       "      <td>-65.849493</td>\n",
       "      <td>37.465454</td>\n",
       "      <td>25.515675</td>\n",
       "      <td>0.103778</td>\n",
       "      <td>-0.555186</td>\n",
       "      <td>0.451407</td>\n",
       "    </tr>\n",
       "    <tr>\n",
       "      <th>11998</th>\n",
       "      <td>0</td>\n",
       "      <td>-65.446698</td>\n",
       "      <td>36.472055</td>\n",
       "      <td>26.106554</td>\n",
       "      <td>0.113107</td>\n",
       "      <td>-0.558211</td>\n",
       "      <td>0.445104</td>\n",
       "    </tr>\n",
       "    <tr>\n",
       "      <th>11999</th>\n",
       "      <td>0</td>\n",
       "      <td>-65.029633</td>\n",
       "      <td>35.477088</td>\n",
       "      <td>26.684731</td>\n",
       "      <td>0.122404</td>\n",
       "      <td>-0.561094</td>\n",
       "      <td>0.438690</td>\n",
       "    </tr>\n",
       "    <tr>\n",
       "      <th>12000</th>\n",
       "      <td>0</td>\n",
       "      <td>-64.598401</td>\n",
       "      <td>34.480799</td>\n",
       "      <td>27.250065</td>\n",
       "      <td>0.131669</td>\n",
       "      <td>-0.563835</td>\n",
       "      <td>0.432166</td>\n",
       "    </tr>\n",
       "  </tbody>\n",
       "</table>\n",
       "<p>12001 rows × 7 columns</p>\n",
       "</div>"
      ],
      "text/plain": [
       "       Output (S)          Ia         Ib          Ic        Va        Vb  \\\n",
       "0               0 -170.472196   9.219613  161.252583  0.054490 -0.659921   \n",
       "1               0 -122.235754   6.168667  116.067087  0.102000 -0.628612   \n",
       "2               0  -90.161474   3.813632   86.347841  0.141026 -0.605277   \n",
       "3               0  -79.904916   2.398803   77.506112  0.156272 -0.602235   \n",
       "4               0  -63.885255   0.590667   63.294587  0.180451 -0.591501   \n",
       "...           ...         ...        ...         ...       ...       ...   \n",
       "11996           0  -66.237921  38.457041   24.912239  0.094421 -0.552019   \n",
       "11997           0  -65.849493  37.465454   25.515675  0.103778 -0.555186   \n",
       "11998           0  -65.446698  36.472055   26.106554  0.113107 -0.558211   \n",
       "11999           0  -65.029633  35.477088   26.684731  0.122404 -0.561094   \n",
       "12000           0  -64.598401  34.480799   27.250065  0.131669 -0.563835   \n",
       "\n",
       "             Vc  \n",
       "0      0.605431  \n",
       "1      0.526202  \n",
       "2      0.464251  \n",
       "3      0.445963  \n",
       "4      0.411050  \n",
       "...         ...  \n",
       "11996  0.457598  \n",
       "11997  0.451407  \n",
       "11998  0.445104  \n",
       "11999  0.438690  \n",
       "12000  0.432166  \n",
       "\n",
       "[12001 rows x 7 columns]"
      ]
     },
     "execution_count": 15,
     "metadata": {},
     "output_type": "execute_result"
    }
   ],
   "source": [
    "df"
   ]
  },
  {
   "cell_type": "code",
   "execution_count": 16,
   "id": "a848803a",
   "metadata": {},
   "outputs": [
    {
     "name": "stdout",
     "output_type": "stream",
     "text": [
      "Vaibhav Jain and Simran Ahuja - Visualising the Correlation of all the features with the output classes.\n"
     ]
    },
    {
     "data": {
      "text/plain": [
       "<AxesSubplot:title={'center':'Correlation with Output (S)'}>"
      ]
     },
     "execution_count": 16,
     "metadata": {},
     "output_type": "execute_result"
    },
    {
     "data": {
      "image/png": "[encoded data removed]",
      "text/plain": [
       "<Figure size 1440x720 with 1 Axes>"
      ]
     },
     "metadata": {
      "needs_background": "light"
     },
     "output_type": "display_data"
    }
   ],
   "source": [
    "# Visualising the Correlation of all the features with the output classes.\n",
    "print('Visualising the Correlation of all the features with the output classes.')\n",
    "df.corrwith(df['Output (S)']).plot.bar(\n",
    "        figsize = (20, 10), title = \"Correlation with Output (S)\", fontsize = 15,\n",
    "        rot = 45, grid = True)"
   ]
  },
  {
   "cell_type": "code",
   "execution_count": 17,
   "id": "2a1c0887",
   "metadata": {},
   "outputs": [
    {
     "data": {
      "text/html": [
       "<div>\n",
       "<style scoped>\n",
       "    .dataframe tbody tr th:only-of-type {\n",
       "        vertical-align: middle;\n",
       "    }\n",
       "\n",
       "    .dataframe tbody tr th {\n",
       "        vertical-align: top;\n",
       "    }\n",
       "\n",
       "    .dataframe thead th {\n",
       "        text-align: right;\n",
       "    }\n",
       "</style>\n",
       "<table border=\"1\" class=\"dataframe\">\n",
       "  <thead>\n",
       "    <tr style=\"text-align: right;\">\n",
       "      <th></th>\n",
       "      <th>Output (S)</th>\n",
       "      <th>Ia</th>\n",
       "      <th>Ib</th>\n",
       "      <th>Ic</th>\n",
       "      <th>Va</th>\n",
       "      <th>Vb</th>\n",
       "      <th>Vc</th>\n",
       "    </tr>\n",
       "  </thead>\n",
       "  <tbody>\n",
       "    <tr>\n",
       "      <th>Output (S)</th>\n",
       "      <td>1.000000</td>\n",
       "      <td>0.039408</td>\n",
       "      <td>-0.134028</td>\n",
       "      <td>0.120044</td>\n",
       "      <td>-0.035377</td>\n",
       "      <td>0.012206</td>\n",
       "      <td>0.022570</td>\n",
       "    </tr>\n",
       "    <tr>\n",
       "      <th>Ia</th>\n",
       "      <td>0.039408</td>\n",
       "      <td>1.000000</td>\n",
       "      <td>-0.375477</td>\n",
       "      <td>-0.275694</td>\n",
       "      <td>0.032598</td>\n",
       "      <td>-0.158207</td>\n",
       "      <td>0.129686</td>\n",
       "    </tr>\n",
       "    <tr>\n",
       "      <th>Ib</th>\n",
       "      <td>-0.134028</td>\n",
       "      <td>-0.375477</td>\n",
       "      <td>1.000000</td>\n",
       "      <td>-0.530187</td>\n",
       "      <td>-0.027052</td>\n",
       "      <td>0.032248</td>\n",
       "      <td>-0.006205</td>\n",
       "    </tr>\n",
       "    <tr>\n",
       "      <th>Ic</th>\n",
       "      <td>0.120044</td>\n",
       "      <td>-0.275694</td>\n",
       "      <td>-0.530187</td>\n",
       "      <td>1.000000</td>\n",
       "      <td>-0.001813</td>\n",
       "      <td>-0.096194</td>\n",
       "      <td>0.100298</td>\n",
       "    </tr>\n",
       "    <tr>\n",
       "      <th>Va</th>\n",
       "      <td>-0.035377</td>\n",
       "      <td>0.032598</td>\n",
       "      <td>-0.027052</td>\n",
       "      <td>-0.001813</td>\n",
       "      <td>1.000000</td>\n",
       "      <td>-0.507928</td>\n",
       "      <td>-0.471163</td>\n",
       "    </tr>\n",
       "  </tbody>\n",
       "</table>\n",
       "</div>"
      ],
      "text/plain": [
       "            Output (S)        Ia        Ib        Ic        Va        Vb  \\\n",
       "Output (S)    1.000000  0.039408 -0.134028  0.120044 -0.035377  0.012206   \n",
       "Ia            0.039408  1.000000 -0.375477 -0.275694  0.032598 -0.158207   \n",
       "Ib           -0.134028 -0.375477  1.000000 -0.530187 -0.027052  0.032248   \n",
       "Ic            0.120044 -0.275694 -0.530187  1.000000 -0.001813 -0.096194   \n",
       "Va           -0.035377  0.032598 -0.027052 -0.001813  1.000000 -0.507928   \n",
       "\n",
       "                  Vc  \n",
       "Output (S)  0.022570  \n",
       "Ia          0.129686  \n",
       "Ib         -0.006205  \n",
       "Ic          0.100298  \n",
       "Va         -0.471163  "
      ]
     },
     "execution_count": 17,
     "metadata": {},
     "output_type": "execute_result"
    }
   ],
   "source": [
    "sns.set(style=\"white\")\n",
    "corr = df.corr()\n",
    "corr.head()"
   ]
  },
  {
   "cell_type": "code",
   "execution_count": 18,
   "id": "1ab32c41",
   "metadata": {},
   "outputs": [
    {
     "name": "stdout",
     "output_type": "stream",
     "text": [
      "Vaibhav Jain and Simran Ahuja - The Correlation Heatmap.\n"
     ]
    },
    {
     "data": {
      "text/plain": [
       "<AxesSubplot:>"
      ]
     },
     "execution_count": 18,
     "metadata": {},
     "output_type": "execute_result"
    },
    {
     "data": {
      "image/png": "[encoded data removed]",
      "text/plain": [
       "<Figure size 432x288 with 2 Axes>"
      ]
     },
     "metadata": {},
     "output_type": "display_data"
    }
   ],
   "source": [
    "# The Correlation Heatmap.\n",
    "print('The Correlation Heatmap.')\n",
    "sns.heatmap(corr)"
   ]
  },
  {
   "cell_type": "markdown",
   "id": "0a8913d6",
   "metadata": {},
   "source": [
    "## Model Building"
   ]
  },
  {
   "cell_type": "code",
   "execution_count": 19,
   "id": "e3c446a9",
   "metadata": {},
   "outputs": [],
   "source": [
    "y = df['Output (S)']\n",
    "X = df.drop(['Output (S)'], axis = 1)"
   ]
  },
  {
   "cell_type": "code",
   "execution_count": 20,
   "id": "9c089f77",
   "metadata": {},
   "outputs": [],
   "source": [
    "# Splitting data into train and test dataframes.\n",
    "from sklearn.model_selection import train_test_split\n",
    "X_train, X_test, y_train, y_test = train_test_split(X, y, test_size = 0.3, random_state = 0)"
   ]
  },
  {
   "cell_type": "code",
   "execution_count": 21,
   "id": "8c77fa89",
   "metadata": {},
   "outputs": [
    {
     "name": "stdout",
     "output_type": "stream",
     "text": [
      "Vaibhav Jain and Simran Ahuja - Number of examples in Train and Test Dataset.\n",
      "Train:  (8400, 6)\n",
      "Test:  (3601, 6)\n"
     ]
    }
   ],
   "source": [
    "print('Number of examples in Train and Test Dataset.')\n",
    "print('Train: ', X_train.shape)\n",
    "print('Test: ', X_test.shape)\n",
    "\n",
    "test_data_pred =  X_test.copy()\n",
    "test_data_pred['Actual Output (S) Label'] = y_test"
   ]
  },
  {
   "cell_type": "code",
   "execution_count": 22,
   "id": "f0942e2a",
   "metadata": {},
   "outputs": [],
   "source": [
    "# ROC Curve function\n",
    "def draw_roc( actual, probs ):\n",
    "    fpr, tpr, thresholds = metrics.roc_curve( actual, probs,\n",
    "                                              drop_intermediate = False )\n",
    "    auc_score = metrics.roc_auc_score( actual, probs )\n",
    "    plt.figure(figsize=(5, 5))\n",
    "    plt.plot( fpr, tpr, label='ROC curve (area = %0.2f)' % auc_score )\n",
    "    plt.plot([0, 1], [0, 1], 'k--')\n",
    "    plt.xlim([0.0, 1.0])\n",
    "    plt.ylim([0.0, 1.05])\n",
    "    plt.xlabel('False Positive Rate or [1 - True Negative Rate]')\n",
    "    plt.ylabel('True Positive Rate')\n",
    "    plt.title('Receiver operating characteristic')\n",
    "    plt.legend(loc=\"lower right\")\n",
    "    plt.show()\n",
    "\n",
    "    return None"
   ]
  },
  {
   "cell_type": "markdown",
   "id": "26aba8da",
   "metadata": {},
   "source": [
    "## Model Training"
   ]
  },
  {
   "cell_type": "markdown",
   "id": "9c4f903b",
   "metadata": {},
   "source": [
    "## Random Forest"
   ]
  },
  {
   "cell_type": "code",
   "execution_count": 23,
   "id": "249affc0",
   "metadata": {},
   "outputs": [],
   "source": [
    "# Instantiating a Random Forest Classifier with 100 trees.\n",
    "rf_model = RandomForestClassifier(n_estimators = 100)\n",
    "\n",
    "# Fitting the model to the data and recording the training time.\n",
    "start_rf = time.time()\n",
    "model_rf = rf_model.fit(X_train, y_train)\n",
    "stop_rf = time.time()"
   ]
  },
  {
   "cell_type": "code",
   "execution_count": 24,
   "id": "cb88c820",
   "metadata": {},
   "outputs": [],
   "source": [
    "# Predicting the output class labels for test data.\n",
    "y_pred_rf = rf_model.predict(X_test)"
   ]
  },
  {
   "cell_type": "code",
   "execution_count": 25,
   "id": "229b8869",
   "metadata": {},
   "outputs": [
    {
     "name": "stdout",
     "output_type": "stream",
     "text": [
      "Vaibhav Jain and Simran Ahuja - Evaluation metrics.\n",
      "Accuracy:  0.9958344904193279\n",
      "Precision:  0.9981640146878825\n",
      "Recall:  0.992696287279367\n",
      "F1 Score:  0.9954226426609704\n",
      "Training time: 0.5700631141662598s\n"
     ]
    }
   ],
   "source": [
    "# Evaluation metrics\n",
    "print('Evaluation metrics.')\n",
    "print(\"Accuracy: \", accuracy_score(y_test, y_pred_rf))\n",
    "print(\"Precision: \", precision_score(y_test, y_pred_rf))\n",
    "print(\"Recall: \", recall_score(y_test, y_pred_rf))\n",
    "print(\"F1 Score: \", f1_score(y_test, y_pred_rf))\n",
    "print(f\"Training time: {stop_rf - start_rf}s\")"
   ]
  },
  {
   "cell_type": "code",
   "execution_count": 26,
   "id": "261b83c1",
   "metadata": {},
   "outputs": [
    {
     "name": "stdout",
     "output_type": "stream",
     "text": [
      "Vaibhav Jain and Simran Ahuja - Confusion Matrix for the test data.\n",
      "[[1955    3]\n",
      " [  12 1631]]\n"
     ]
    }
   ],
   "source": [
    "# Confusion Matrix for the test data\n",
    "print('Confusion Matrix for the test data.')\n",
    "print(confusion_matrix( y_test, y_pred_rf))"
   ]
  },
  {
   "cell_type": "code",
   "execution_count": 27,
   "id": "4e1715a5",
   "metadata": {},
   "outputs": [
    {
     "name": "stdout",
     "output_type": "stream",
     "text": [
      "Vaibhav Jain and Simran Ahuja - Classification Report for Random Forest.\n",
      "              precision    recall  f1-score   support\n",
      "\n",
      "           0       0.99      1.00      1.00      1958\n",
      "           1       1.00      0.99      1.00      1643\n",
      "\n",
      "    accuracy                           1.00      3601\n",
      "   macro avg       1.00      1.00      1.00      3601\n",
      "weighted avg       1.00      1.00      1.00      3601\n",
      "\n"
     ]
    }
   ],
   "source": [
    "# Classification Report for Random Forest\n",
    "print('Classification Report for Random Forest.')\n",
    "rf_cls_report = classification_report(y_test, y_pred_rf)\n",
    "print(rf_cls_report)"
   ]
  },
  {
   "cell_type": "code",
   "execution_count": 28,
   "id": "f26247ee",
   "metadata": {},
   "outputs": [
    {
     "name": "stdout",
     "output_type": "stream",
     "text": [
      "Vaibhav Jain and Simran Ahuja - Feature Importance for Random Forest.\n"
     ]
    },
    {
     "data": {
      "text/plain": [
       "<AxesSubplot:>"
      ]
     },
     "execution_count": 28,
     "metadata": {},
     "output_type": "execute_result"
    },
    {
     "data": {
      "image/png": "[encoded data removed]",
      "text/plain": [
       "<Figure size 720x360 with 1 Axes>"
      ]
     },
     "metadata": {},
     "output_type": "display_data"
    }
   ],
   "source": [
    "# Feature Importance for Random Forest\n",
    "print('Feature Importance for Random Forest.')\n",
    "var_importance = pd.Series(rf_model.feature_importances_)\n",
    "var_importance.index = X_train.columns\n",
    "plt.figure( figsize = (10, 5) )\n",
    "var_importance.sort_values(ascending = False).plot.bar()"
   ]
  },
  {
   "cell_type": "code",
   "execution_count": 29,
   "id": "ae0367b9",
   "metadata": {
    "scrolled": true
   },
   "outputs": [
    {
     "name": "stdout",
     "output_type": "stream",
     "text": [
      "Vaibhav Jain and Simran Ahuja - Plot the ROC curve.\n"
     ]
    },
    {
     "data": {
      "image/png": "[encoded data removed]",
      "text/plain": [
       "<Figure size 360x360 with 1 Axes>"
      ]
     },
     "metadata": {},
     "output_type": "display_data"
    }
   ],
   "source": [
    "# Predicted probability\n",
    "y_test_pred_proba = model_rf.predict_proba(X_test)[:,1]\n",
    "\n",
    "# Plot the ROC curve\n",
    "print('Plot the ROC curve.')\n",
    "draw_roc(y_test, y_test_pred_proba)"
   ]
  },
  {
   "cell_type": "markdown",
   "id": "ceada0c6",
   "metadata": {},
   "source": [
    "## KNN"
   ]
  },
  {
   "cell_type": "code",
   "execution_count": 30,
   "id": "fabfa591",
   "metadata": {},
   "outputs": [],
   "source": [
    "# Instantiating a KNN Classifier with 3 neighbours to be used for query matching.\n",
    "clf_knn = KNeighborsClassifier(n_neighbors=3)"
   ]
  },
  {
   "cell_type": "code",
   "execution_count": 31,
   "id": "250b7b60",
   "metadata": {},
   "outputs": [],
   "source": [
    "# Recording the training start time.\n",
    "start_knn = time.time()"
   ]
  },
  {
   "cell_type": "code",
   "execution_count": 32,
   "id": "b016f847",
   "metadata": {},
   "outputs": [
    {
     "name": "stdout",
     "output_type": "stream",
     "text": [
      "Vaibhav Jain and Simran Ahuja - Fitting KNN model to the data.\n"
     ]
    }
   ],
   "source": [
    "# Fitting the model to the data.\n",
    "print('Fitting KNN model to the data.')\n",
    "model_knn = clf_knn.fit(X_train, y_train)"
   ]
  },
  {
   "cell_type": "code",
   "execution_count": 33,
   "id": "33b35b89",
   "metadata": {},
   "outputs": [],
   "source": [
    "# Recording the training end time.\n",
    "stop_knn = time.time()"
   ]
  },
  {
   "cell_type": "code",
   "execution_count": 34,
   "id": "11d69ec2",
   "metadata": {},
   "outputs": [],
   "source": [
    "# Predicting the output class labels for test data.\n",
    "y_pred_knn = model_knn.predict(X_test)"
   ]
  },
  {
   "cell_type": "code",
   "execution_count": 35,
   "id": "edb351c2",
   "metadata": {},
   "outputs": [
    {
     "name": "stdout",
     "output_type": "stream",
     "text": [
      "Vaibhav Jain and Simran Ahuja - Evaluation metrics.\n",
      "Accuracy:  0.991113579561233\n",
      "Precision:  1.0\n",
      "Recall:  0.9805234327449787\n",
      "F1 Score:  0.9901659496004916\n",
      "Training time: 0.5069732666015625s\n"
     ]
    }
   ],
   "source": [
    "# Evaluation metrics\n",
    "print('Evaluation metrics.')\n",
    "print(\"Accuracy: \", accuracy_score(y_test, y_pred_knn))\n",
    "print(\"Precision: \", precision_score(y_test, y_pred_knn))\n",
    "print(\"Recall: \", recall_score(y_test, y_pred_knn))\n",
    "print(\"F1 Score: \", f1_score(y_test, y_pred_knn))\n",
    "print(f\"Training time: {stop_knn - start_knn}s\")"
   ]
  },
  {
   "cell_type": "code",
   "execution_count": 36,
   "id": "300318e4",
   "metadata": {},
   "outputs": [
    {
     "name": "stdout",
     "output_type": "stream",
     "text": [
      "4954     1\n",
      "12000    0\n",
      "11760    0\n",
      "7532     1\n",
      "11967    0\n",
      "        ..\n",
      "10983    0\n",
      "7876     0\n",
      "4544     1\n",
      "4000     0\n",
      "10457    0\n",
      "Name: Output (S), Length: 3601, dtype: int64\n"
     ]
    }
   ],
   "source": [
    "print(y_test)"
   ]
  },
  {
   "cell_type": "code",
   "execution_count": 37,
   "id": "d67ec1ba",
   "metadata": {},
   "outputs": [
    {
     "name": "stdout",
     "output_type": "stream",
     "text": [
      "[1 0 0 ... 1 0 0]\n"
     ]
    }
   ],
   "source": [
    "print(y_pred_knn)"
   ]
  },
  {
   "cell_type": "code",
   "execution_count": 38,
   "id": "4485b540",
   "metadata": {},
   "outputs": [
    {
     "name": "stdout",
     "output_type": "stream",
     "text": [
      "Vaibhav Jain and Simran Ahuja - Classification Report.\n",
      "              precision    recall  f1-score   support\n",
      "\n",
      "           0       0.98      1.00      0.99      1958\n",
      "           1       1.00      0.98      0.99      1643\n",
      "\n",
      "    accuracy                           0.99      3601\n",
      "   macro avg       0.99      0.99      0.99      3601\n",
      "weighted avg       0.99      0.99      0.99      3601\n",
      "\n"
     ]
    }
   ],
   "source": [
    "print('Classification Report.')\n",
    "knn_cls_report = classification_report(y_test, y_pred_knn)\n",
    "print(knn_cls_report)"
   ]
  },
  {
   "cell_type": "code",
   "execution_count": 39,
   "id": "cf77a764",
   "metadata": {},
   "outputs": [
    {
     "name": "stdout",
     "output_type": "stream",
     "text": [
      "[[1958    0]\n",
      " [  32 1611]]\n"
     ]
    }
   ],
   "source": [
    "print(confusion_matrix( y_test, y_pred_knn))"
   ]
  },
  {
   "cell_type": "code",
   "execution_count": 40,
   "id": "b8b411ae",
   "metadata": {},
   "outputs": [
    {
     "name": "stdout",
     "output_type": "stream",
     "text": [
      "Vaibhav Jain and Simran Ahuja - Plot the ROC curve.\n"
     ]
    },
    {
     "data": {
      "image/png": "[encoded data removed]",
      "text/plain": [
       "<Figure size 360x360 with 1 Axes>"
      ]
     },
     "metadata": {},
     "output_type": "display_data"
    }
   ],
   "source": [
    "# Predicted probability\n",
    "y_test_pred_proba = model_knn.predict_proba(X_test)[:,1]\n",
    "\n",
    "# Plot the ROC curve\n",
    "print('Plot the ROC curve.')\n",
    "draw_roc(y_test, y_test_pred_proba)"
   ]
  },
  {
   "cell_type": "markdown",
   "id": "bc1dca5b",
   "metadata": {},
   "source": [
    "## SVM"
   ]
  },
  {
   "cell_type": "code",
   "execution_count": 41,
   "id": "ece31be3",
   "metadata": {},
   "outputs": [],
   "source": [
    "from sklearn.svm import SVC\n",
    "model_svm = SVC(probability=True)"
   ]
  },
  {
   "cell_type": "code",
   "execution_count": 42,
   "id": "6652f4c7",
   "metadata": {},
   "outputs": [],
   "source": [
    "start_svc = time.time()"
   ]
  },
  {
   "cell_type": "code",
   "execution_count": 43,
   "id": "f09c79c5",
   "metadata": {},
   "outputs": [],
   "source": [
    "model_svc = model_svm.fit(X_train, y_train)"
   ]
  },
  {
   "cell_type": "code",
   "execution_count": 44,
   "id": "bef492b8",
   "metadata": {},
   "outputs": [],
   "source": [
    "stop_svc = time.time()"
   ]
  },
  {
   "cell_type": "code",
   "execution_count": 45,
   "id": "e9df6351",
   "metadata": {},
   "outputs": [],
   "source": [
    "y_pred_svc = model_svc.predict(X_test)"
   ]
  },
  {
   "cell_type": "code",
   "execution_count": 46,
   "id": "2e8e5416",
   "metadata": {},
   "outputs": [
    {
     "name": "stdout",
     "output_type": "stream",
     "text": [
      "Accuracy:  0.9805609552901972\n",
      "Precision:  1.0\n",
      "Recall:  0.9573950091296409\n",
      "F1 Score:  0.9782338308457711\n",
      "Training time: 1.0550382137298584s\n"
     ]
    }
   ],
   "source": [
    "print(\"Accuracy: \", accuracy_score(y_test, y_pred_svc))\n",
    "print(\"Precision: \", precision_score(y_test, y_pred_svc))\n",
    "print(\"Recall: \", recall_score(y_test, y_pred_svc))\n",
    "print(\"F1 Score: \", f1_score(y_test, y_pred_svc))\n",
    "print(f\"Training time: {stop_svc - start_svc}s\")"
   ]
  },
  {
   "cell_type": "code",
   "execution_count": 47,
   "id": "49116925",
   "metadata": {},
   "outputs": [
    {
     "name": "stdout",
     "output_type": "stream",
     "text": [
      "Vaibhav Jain and Simran Ahuja - Classification Report.\n",
      "              precision    recall  f1-score   support\n",
      "\n",
      "           0       0.97      1.00      0.98      1958\n",
      "           1       1.00      0.96      0.98      1643\n",
      "\n",
      "    accuracy                           0.98      3601\n",
      "   macro avg       0.98      0.98      0.98      3601\n",
      "weighted avg       0.98      0.98      0.98      3601\n",
      "\n"
     ]
    }
   ],
   "source": [
    "print('Classification Report.')\n",
    "svc_cls_report = classification_report(y_test, y_pred_svc)\n",
    "print(svc_cls_report)"
   ]
  },
  {
   "cell_type": "code",
   "execution_count": 48,
   "id": "89a7bc7a",
   "metadata": {},
   "outputs": [
    {
     "name": "stdout",
     "output_type": "stream",
     "text": [
      "[[1958    0]\n",
      " [  70 1573]]\n"
     ]
    }
   ],
   "source": [
    "print(confusion_matrix( y_test, y_pred_svc))"
   ]
  },
  {
   "cell_type": "code",
   "execution_count": 49,
   "id": "02ce1fab",
   "metadata": {},
   "outputs": [
    {
     "name": "stdout",
     "output_type": "stream",
     "text": [
      "Vaibhav Jain and Simran Ahuja - Plot the ROC curve.\n"
     ]
    },
    {
     "data": {
      "image/png": "[encoded data removed]",
      "text/plain": [
       "<Figure size 360x360 with 1 Axes>"
      ]
     },
     "metadata": {},
     "output_type": "display_data"
    }
   ],
   "source": [
    "# Predicted probability\n",
    "y_test_pred_proba = model_svm.predict_proba(X_test)[:,1]\n",
    "\n",
    "# Plot the ROC curve\n",
    "print('Plot the ROC curve.')\n",
    "draw_roc(y_test, y_test_pred_proba)"
   ]
  },
  {
   "cell_type": "markdown",
   "id": "5082c32c",
   "metadata": {},
   "source": [
    "## Logistic Regression"
   ]
  },
  {
   "cell_type": "code",
   "execution_count": 50,
   "id": "ae43cec2",
   "metadata": {},
   "outputs": [],
   "source": [
    "clf_lr = LogisticRegression(random_state = 0)"
   ]
  },
  {
   "cell_type": "code",
   "execution_count": 51,
   "id": "26acd327",
   "metadata": {},
   "outputs": [],
   "source": [
    "start_lr = time.time()"
   ]
  },
  {
   "cell_type": "code",
   "execution_count": 52,
   "id": "a86f26a4",
   "metadata": {},
   "outputs": [],
   "source": [
    "model_lr = clf_lr.fit(X_train,y_train)"
   ]
  },
  {
   "cell_type": "code",
   "execution_count": 53,
   "id": "7997dbce",
   "metadata": {},
   "outputs": [],
   "source": [
    "stop_lr = time.time()"
   ]
  },
  {
   "cell_type": "code",
   "execution_count": 54,
   "id": "4c91a2e6",
   "metadata": {},
   "outputs": [],
   "source": [
    "y_pred_lr = model_lr.predict(X_test)"
   ]
  },
  {
   "cell_type": "code",
   "execution_count": 55,
   "id": "913a6feb",
   "metadata": {},
   "outputs": [
    {
     "name": "stdout",
     "output_type": "stream",
     "text": [
      "Vaibhav Jain and Simran Ahuja - Evaluation metrics.\n",
      "Accuracy:  0.731185781727298\n",
      "Precision:  1.0\n",
      "Recall:  0.4108338405356056\n",
      "F1 Score:  0.5823986194995686\n",
      "Training time: 1.8599812984466553s\n"
     ]
    }
   ],
   "source": [
    "print('Evaluation metrics.')\n",
    "print(\"Accuracy: \", accuracy_score(y_test, y_pred_lr))\n",
    "print(\"Precision: \", precision_score(y_test, y_pred_lr))\n",
    "print(\"Recall: \", recall_score(y_test, y_pred_lr))\n",
    "print(\"F1 Score: \", f1_score(y_test, y_pred_lr))\n",
    "print(f\"Training time: {stop_lr - start_lr}s\")"
   ]
  },
  {
   "cell_type": "code",
   "execution_count": 56,
   "id": "6cc61f3d",
   "metadata": {},
   "outputs": [
    {
     "name": "stdout",
     "output_type": "stream",
     "text": [
      "Vaibhav Jain and Simran Ahuja - Classification Report.\n",
      "              precision    recall  f1-score   support\n",
      "\n",
      "           0       0.67      1.00      0.80      1958\n",
      "           1       1.00      0.41      0.58      1643\n",
      "\n",
      "    accuracy                           0.73      3601\n",
      "   macro avg       0.83      0.71      0.69      3601\n",
      "weighted avg       0.82      0.73      0.70      3601\n",
      "\n"
     ]
    }
   ],
   "source": [
    "print('Classification Report.')\n",
    "lr_cls_report = classification_report(y_test, y_pred_lr)\n",
    "print(lr_cls_report)"
   ]
  },
  {
   "cell_type": "code",
   "execution_count": 57,
   "id": "7bbfc155",
   "metadata": {},
   "outputs": [
    {
     "name": "stdout",
     "output_type": "stream",
     "text": [
      "[[1958    0]\n",
      " [ 968  675]]\n"
     ]
    }
   ],
   "source": [
    "print(confusion_matrix( y_test, y_pred_lr))"
   ]
  },
  {
   "cell_type": "code",
   "execution_count": 58,
   "id": "a0201f32",
   "metadata": {},
   "outputs": [
    {
     "name": "stdout",
     "output_type": "stream",
     "text": [
      "Vaibhav Jain and Simran Ahuja - Plot the ROC curve.\n"
     ]
    },
    {
     "data": {
      "image/png": "[encoded data removed]",
      "text/plain": [
       "<Figure size 360x360 with 1 Axes>"
      ]
     },
     "metadata": {},
     "output_type": "display_data"
    }
   ],
   "source": [
    "# Predicted probability\n",
    "y_test_pred_proba = model_lr.predict_proba(X_test)[:,1]\n",
    "\n",
    "# Plot the ROC curve\n",
    "print('Plot the ROC curve.')\n",
    "draw_roc(y_test, y_test_pred_proba)"
   ]
  },
  {
   "cell_type": "markdown",
   "id": "a0fb2977",
   "metadata": {},
   "source": [
    "## Decision Tree"
   ]
  },
  {
   "cell_type": "code",
   "execution_count": 59,
   "id": "6f1be286",
   "metadata": {},
   "outputs": [],
   "source": [
    "# Instantiating a Decision Tree Classifier with default parameters.\n",
    "clf_dt = DecisionTreeClassifier()\n",
    "\n",
    "# Fitting the model to the data and recording the training time.\n",
    "start_dt = time.time()\n",
    "model_dt = clf_dt.fit(X_train, y_train)\n",
    "stop_dt = time.time()"
   ]
  },
  {
   "cell_type": "code",
   "execution_count": 60,
   "id": "2a1bc21c",
   "metadata": {},
   "outputs": [],
   "source": [
    "# Predicting the output class labels for test data.\n",
    "y_pred_dt = model_dt.predict(X_test)"
   ]
  },
  {
   "cell_type": "code",
   "execution_count": 61,
   "id": "eb3df013",
   "metadata": {},
   "outputs": [
    {
     "name": "stdout",
     "output_type": "stream",
     "text": [
      "Vaibhav Jain and Simran Ahuja - Evaluation metrics.\n",
      "Accuracy:  0.9938905859483477\n",
      "Precision:  0.996934396076027\n",
      "Recall:  0.9896530736457699\n",
      "F1 Score:  0.9932803909590715\n",
      "Training time: 0.029998779296875s\n"
     ]
    }
   ],
   "source": [
    "# Evaluation metrics\n",
    "print('Evaluation metrics.')\n",
    "print(\"Accuracy: \", accuracy_score(y_test, y_pred_dt))\n",
    "print(\"Precision: \", precision_score(y_test, y_pred_dt))\n",
    "print(\"Recall: \", recall_score(y_test, y_pred_dt))\n",
    "print(\"F1 Score: \", f1_score(y_test, y_pred_dt))\n",
    "print(f\"Training time: {stop_dt - start_dt}s\")"
   ]
  },
  {
   "cell_type": "code",
   "execution_count": 62,
   "id": "e21e2502",
   "metadata": {},
   "outputs": [
    {
     "name": "stdout",
     "output_type": "stream",
     "text": [
      "Vaibhav Jain and Simran Ahuja - Classification Report.\n",
      "              precision    recall  f1-score   support\n",
      "\n",
      "           0       0.99      1.00      0.99      1958\n",
      "           1       1.00      0.99      0.99      1643\n",
      "\n",
      "    accuracy                           0.99      3601\n",
      "   macro avg       0.99      0.99      0.99      3601\n",
      "weighted avg       0.99      0.99      0.99      3601\n",
      "\n"
     ]
    }
   ],
   "source": [
    "# Classification Report\n",
    "print('Classification Report.')\n",
    "dt_cls_report = classification_report(y_test, y_pred_dt)\n",
    "print(dt_cls_report)"
   ]
  },
  {
   "cell_type": "code",
   "execution_count": 63,
   "id": "e2d4fb77",
   "metadata": {},
   "outputs": [
    {
     "name": "stdout",
     "output_type": "stream",
     "text": [
      "Vaibhav Jain and Simran Ahuja - Plot the ROC curve.\n"
     ]
    },
    {
     "data": {
      "image/png": "[encoded data removed]",
      "text/plain": [
       "<Figure size 360x360 with 1 Axes>"
      ]
     },
     "metadata": {},
     "output_type": "display_data"
    }
   ],
   "source": [
    "# Predicted probability\n",
    "y_test_pred_proba = model_dt.predict_proba(X_test)[:,1]\n",
    "\n",
    "# Plot the ROC curve\n",
    "print('Plot the ROC curve.')\n",
    "draw_roc(y_test, y_test_pred_proba)"
   ]
  },
  {
   "cell_type": "code",
   "execution_count": 64,
   "id": "66c3a70b",
   "metadata": {},
   "outputs": [],
   "source": [
    "from sklearn.naive_bayes import GaussianNB"
   ]
  },
  {
   "cell_type": "code",
   "execution_count": 65,
   "id": "08896689",
   "metadata": {},
   "outputs": [],
   "source": [
    "clf_gnb = GaussianNB()"
   ]
  },
  {
   "cell_type": "code",
   "execution_count": 66,
   "id": "549baad1",
   "metadata": {},
   "outputs": [],
   "source": [
    "start_gnb = time.time()"
   ]
  },
  {
   "cell_type": "code",
   "execution_count": 67,
   "id": "faf436ef",
   "metadata": {},
   "outputs": [],
   "source": [
    "model_gnb = clf_gnb.fit(X_train, y_train)"
   ]
  },
  {
   "cell_type": "code",
   "execution_count": 68,
   "id": "cc8a2106",
   "metadata": {},
   "outputs": [],
   "source": [
    "stop_gnb = time.time()"
   ]
  },
  {
   "cell_type": "code",
   "execution_count": 69,
   "id": "3c90c6e2",
   "metadata": {},
   "outputs": [],
   "source": [
    "y_pred_gnb = model_gnb.predict(X_test)"
   ]
  },
  {
   "cell_type": "code",
   "execution_count": 70,
   "id": "dc8a58fc",
   "metadata": {},
   "outputs": [
    {
     "name": "stdout",
     "output_type": "stream",
     "text": [
      "Vaibhav Jain and Simran Ahuja - Evaluation metrics.\n",
      "Accuracy:  0.9783393501805054\n",
      "Precision:  1.0\n",
      "Recall:  0.9525258673158856\n",
      "F1 Score:  0.9756857855361596\n",
      "Training time: 0.6158461570739746s\n"
     ]
    }
   ],
   "source": [
    "print('Evaluation metrics.')\n",
    "print(\"Accuracy: \", accuracy_score(y_test, y_pred_gnb))\n",
    "print(\"Precision: \", precision_score(y_test, y_pred_gnb))\n",
    "print(\"Recall: \", recall_score(y_test, y_pred_gnb))\n",
    "print(\"F1 Score: \", f1_score(y_test, y_pred_gnb))\n",
    "print(f\"Training time: {stop_gnb - start_gnb}s\")"
   ]
  },
  {
   "cell_type": "code",
   "execution_count": 71,
   "id": "b9862b40",
   "metadata": {},
   "outputs": [
    {
     "name": "stdout",
     "output_type": "stream",
     "text": [
      "Vaibhav Jain and Simran Ahuja - Classification Report.\n",
      "              precision    recall  f1-score   support\n",
      "\n",
      "           0       0.96      1.00      0.98      1958\n",
      "           1       1.00      0.95      0.98      1643\n",
      "\n",
      "    accuracy                           0.98      3601\n",
      "   macro avg       0.98      0.98      0.98      3601\n",
      "weighted avg       0.98      0.98      0.98      3601\n",
      "\n"
     ]
    }
   ],
   "source": [
    "# Classification Report\n",
    "print('Classification Report.')\n",
    "gnb_cls_report = classification_report(y_test, y_pred_gnb)\n",
    "print(gnb_cls_report)"
   ]
  },
  {
   "cell_type": "code",
   "execution_count": 72,
   "id": "55e1ea44",
   "metadata": {},
   "outputs": [
    {
     "name": "stdout",
     "output_type": "stream",
     "text": [
      "Vaibhav Jain and Simran Ahuja - Plot the ROC curve.\n"
     ]
    },
    {
     "data": {
      "image/png": "[encoded data removed]",
      "text/plain": [
       "<Figure size 360x360 with 1 Axes>"
      ]
     },
     "metadata": {},
     "output_type": "display_data"
    }
   ],
   "source": [
    "# Predicted probability\n",
    "y_test_pred_proba = model_gnb.predict_proba(X_test)[:,1]\n",
    "\n",
    "# Plot the ROC curve\n",
    "print('Plot the ROC curve.')\n",
    "draw_roc(y_test, y_test_pred_proba)"
   ]
  },
  {
   "cell_type": "markdown",
   "id": "9276c90b",
   "metadata": {},
   "source": [
    "## K-Fold Crossvalidation"
   ]
  },
  {
   "cell_type": "code",
   "execution_count": 73,
   "id": "3d166c0e",
   "metadata": {},
   "outputs": [],
   "source": [
    "from sklearn.model_selection import cross_val_score"
   ]
  },
  {
   "cell_type": "markdown",
   "id": "a13337d6",
   "metadata": {},
   "source": [
    "# K-FOLD using Random Forest"
   ]
  },
  {
   "cell_type": "code",
   "execution_count": 74,
   "id": "b87f5140",
   "metadata": {},
   "outputs": [],
   "source": [
    "f1scores_rf = cross_val_score(model_rf, X_train, y_train, scoring ='f1', cv=10)"
   ]
  },
  {
   "cell_type": "code",
   "execution_count": 76,
   "id": "379fe516",
   "metadata": {},
   "outputs": [
    {
     "data": {
      "text/plain": [
       "array([0.99741602, 0.99870298, 0.99740933, 0.99869961, 0.9974026 ,\n",
       "       0.99610895, 0.99220779, 0.99739583, 0.99222798, 0.98963731])"
      ]
     },
     "execution_count": 76,
     "metadata": {},
     "output_type": "execute_result"
    }
   ],
   "source": [
    "f1scores_rf"
   ]
  },
  {
   "cell_type": "code",
   "execution_count": 77,
   "id": "1724dfe7",
   "metadata": {},
   "outputs": [
    {
     "data": {
      "text/plain": [
       "0.9957208397452609"
      ]
     },
     "execution_count": 77,
     "metadata": {},
     "output_type": "execute_result"
    }
   ],
   "source": [
    "avg_rf = np.mean(f1scores_rf)\n",
    "avg_rf"
   ]
  },
  {
   "cell_type": "markdown",
   "id": "86f85899",
   "metadata": {},
   "source": [
    "# K-FOLD using KNN"
   ]
  },
  {
   "cell_type": "code",
   "execution_count": 78,
   "id": "cdafc94d",
   "metadata": {},
   "outputs": [],
   "source": [
    "f1scores_knn = cross_val_score(model_knn, X_train, y_train, scoring ='f1', cv=10)"
   ]
  },
  {
   "cell_type": "code",
   "execution_count": 79,
   "id": "f23602ae",
   "metadata": {},
   "outputs": [
    {
     "data": {
      "text/plain": [
       "array([0.99220779, 0.9921671 , 0.9921875 , 0.99479167, 0.99346405,\n",
       "       0.98955614, 0.98829649, 0.98950131, 0.98694517, 0.98697917])"
      ]
     },
     "execution_count": 79,
     "metadata": {},
     "output_type": "execute_result"
    }
   ],
   "source": [
    "f1scores_knn"
   ]
  },
  {
   "cell_type": "code",
   "execution_count": 81,
   "id": "2083e0a9",
   "metadata": {},
   "outputs": [
    {
     "data": {
      "text/plain": [
       "0.9906096386422053"
      ]
     },
     "execution_count": 81,
     "metadata": {},
     "output_type": "execute_result"
    }
   ],
   "source": [
    "avg_knn = np.mean(f1scores_knn)\n",
    "avg_knn"
   ]
  },
  {
   "cell_type": "markdown",
   "id": "0d83c21e",
   "metadata": {},
   "source": [
    "# K-FOLD using SVC"
   ]
  },
  {
   "cell_type": "code",
   "execution_count": 82,
   "id": "4baa2093",
   "metadata": {},
   "outputs": [],
   "source": [
    "f1scores_svc = cross_val_score(model_svc, X_train, y_train, scoring ='f1', cv=10)"
   ]
  },
  {
   "cell_type": "code",
   "execution_count": 83,
   "id": "cf5c3949",
   "metadata": {},
   "outputs": [
    {
     "data": {
      "text/plain": [
       "array([0.97748344, 0.97748344, 0.98018494, 0.99082569, 0.97606383,\n",
       "       0.96921017, 0.98013245, 0.98013245, 0.97877984, 0.97203728])"
      ]
     },
     "execution_count": 83,
     "metadata": {},
     "output_type": "execute_result"
    }
   ],
   "source": [
    "f1scores_svc"
   ]
  },
  {
   "cell_type": "code",
   "execution_count": 84,
   "id": "c3225239",
   "metadata": {},
   "outputs": [
    {
     "data": {
      "text/plain": [
       "0.9782333544995016"
      ]
     },
     "execution_count": 84,
     "metadata": {},
     "output_type": "execute_result"
    }
   ],
   "source": [
    "avg_knn = np.mean(f1scores_svc)\n",
    "avg_knn"
   ]
  },
  {
   "cell_type": "markdown",
   "id": "2de26636",
   "metadata": {},
   "source": [
    "# K-FOLD using Logistic Regression"
   ]
  },
  {
   "cell_type": "code",
   "execution_count": 85,
   "id": "2cd97bc0",
   "metadata": {},
   "outputs": [],
   "source": [
    "f1scores_lr = cross_val_score(model_lr, X_train, y_train, scoring ='f1', cv=10)"
   ]
  },
  {
   "cell_type": "code",
   "execution_count": 86,
   "id": "b5ff9b8b",
   "metadata": {},
   "outputs": [
    {
     "data": {
      "text/plain": [
       "array([0.58088235, 0.54339623, 0.54064272, 0.61510791, 0.56074766,\n",
       "       0.53333333, 0.60254083, 0.55263158, 0.58195212, 0.56610801])"
      ]
     },
     "execution_count": 86,
     "metadata": {},
     "output_type": "execute_result"
    }
   ],
   "source": [
    "f1scores_lr"
   ]
  },
  {
   "cell_type": "code",
   "execution_count": 87,
   "id": "ffdb395c",
   "metadata": {},
   "outputs": [
    {
     "data": {
      "text/plain": [
       "0.5677342751132887"
      ]
     },
     "execution_count": 87,
     "metadata": {},
     "output_type": "execute_result"
    }
   ],
   "source": [
    "avg_lr = np.mean(f1scores_lr)\n",
    "avg_lr"
   ]
  },
  {
   "cell_type": "markdown",
   "id": "80623342",
   "metadata": {},
   "source": [
    "# K-FOLD using Decision Tree"
   ]
  },
  {
   "cell_type": "code",
   "execution_count": 88,
   "id": "fdc1de1f",
   "metadata": {},
   "outputs": [],
   "source": [
    "f1scores_dt = cross_val_score(model_dt, X_train, y_train, scoring ='f1', cv=10)"
   ]
  },
  {
   "cell_type": "code",
   "execution_count": 89,
   "id": "2036c54e",
   "metadata": {},
   "outputs": [
    {
     "data": {
      "text/plain": [
       "array([0.99224806, 0.99870298, 0.99740933, 0.99739583, 0.99479167,\n",
       "       0.99092088, 0.98963731, 0.99477807, 0.98961039, 0.99222798])"
      ]
     },
     "execution_count": 89,
     "metadata": {},
     "output_type": "execute_result"
    }
   ],
   "source": [
    "f1scores_dt"
   ]
  },
  {
   "cell_type": "code",
   "execution_count": 90,
   "id": "39b241e3",
   "metadata": {},
   "outputs": [
    {
     "data": {
      "text/plain": [
       "0.9937722496020222"
      ]
     },
     "execution_count": 90,
     "metadata": {},
     "output_type": "execute_result"
    }
   ],
   "source": [
    "avg_dt = np.mean(f1scores_dt)\n",
    "avg_dt"
   ]
  },
  {
   "cell_type": "markdown",
   "id": "83ed1960",
   "metadata": {},
   "source": [
    "# K-FOLD using Gaussian naive bayes"
   ]
  },
  {
   "cell_type": "code",
   "execution_count": 95,
   "id": "fba938bb",
   "metadata": {},
   "outputs": [],
   "source": [
    "f1scores_gnb = cross_val_score(model_gnb, X_train, y_train, scoring ='f1', cv=10)"
   ]
  },
  {
   "cell_type": "code",
   "execution_count": 96,
   "id": "6ebe605e",
   "metadata": {},
   "outputs": [
    {
     "data": {
      "text/plain": [
       "array([0.97612732, 0.97612732, 0.97612732, 0.98950131, 0.9747004 ,\n",
       "       0.97058824, 0.97742364, 0.97742364, 0.9747004 , 0.97203728])"
      ]
     },
     "execution_count": 96,
     "metadata": {},
     "output_type": "execute_result"
    }
   ],
   "source": [
    "f1scores_gnb"
   ]
  },
  {
   "cell_type": "code",
   "execution_count": 97,
   "id": "468a9e3b",
   "metadata": {},
   "outputs": [],
   "source": [
    "avg_gnb = np.mean(f1scores_gnb)"
   ]
  },
  {
   "cell_type": "code",
   "execution_count": 98,
   "id": "d41fe293",
   "metadata": {},
   "outputs": [
    {
     "data": {
      "text/plain": [
       "0.9764756870607829"
      ]
     },
     "execution_count": 98,
     "metadata": {},
     "output_type": "execute_result"
    }
   ],
   "source": [
    "avg_gnb"
   ]
  },
  {
   "cell_type": "markdown",
   "id": "6411c553",
   "metadata": {},
   "source": [
    "### Results Comparison"
   ]
  },
  {
   "cell_type": "markdown",
   "id": "54cfd424",
   "metadata": {},
   "source": [
    "|Classifier| |F1 Score| \n",
    "|-----| |-----|\n",
    "|Random Forest| |0.995|\n",
    "|KNN|  |0.990|\n",
    "|SVC| |0.978|\n",
    "|Logistic Regression| |0.582|\n",
    "|Decision Tree| |0.993|\n",
    "|Gaussian naive bayes| |0.975|\n"
   ]
  },
  {
   "cell_type": "markdown",
   "id": "d47518dc",
   "metadata": {},
   "source": [
    "### Results Comparison after K-Fold"
   ]
  },
  {
   "cell_type": "markdown",
   "id": "0f328d01",
   "metadata": {},
   "source": [
    "|Classifier| |F1 Score| \n",
    "|-----| |-----|\n",
    "|Random Forest| |0.995|\n",
    "|KNN|  |0.990|\n",
    "|SVC| |0.978|\n",
    "|Logistic Regression| |0.567|\n",
    "|Decision Tree| |0.993|\n",
    "|Gaussian naive bayes| |0.976|"
   ]
  },
  {
   "cell_type": "code",
   "execution_count": null,
   "id": "d71b41af",
   "metadata": {},
   "outputs": [],
   "source": []
  }
 ],
 "metadata": {
  "kernelspec": {
   "display_name": "Python 3 (ipykernel)",
   "language": "python",
   "name": "python3"
  },
  "language_info": {
   "codemirror_mode": {
    "name": "ipython",
    "version": 3
   },
   "file_extension": ".py",
   "mimetype": "text/x-python",
   "name": "python",
   "nbconvert_exporter": "python",
   "pygments_lexer": "ipython3",
   "version": "3.7.9"
  }
 },
 "nbformat": 4,
 "nbformat_minor": 5
}
